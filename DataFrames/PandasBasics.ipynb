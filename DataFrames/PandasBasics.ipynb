{
 "cells": [
  {
   "cell_type": "code",
   "execution_count": 12,
   "id": "4f4edf77-fd1c-482e-b524-f0ed3473b2e1",
   "metadata": {},
   "outputs": [],
   "source": [
    "import pandas as pd\n",
    "import numpy as np"
   ]
  },
  {
   "cell_type": "code",
   "execution_count": 2,
   "id": "0a32c84a-0efd-4c6c-a821-e5e71a87818c",
   "metadata": {},
   "outputs": [
    {
     "name": "stdout",
     "output_type": "stream",
     "text": [
      "Empty DataFrame\n",
      "Columns: []\n",
      "Index: []\n"
     ]
    }
   ],
   "source": [
    "## creating an empty dataframe\n",
    "\n",
    "df = pd.DataFrame()\n",
    "print(df)"
   ]
  },
  {
   "cell_type": "code",
   "execution_count": 5,
   "id": "34ee3255-ff03-430b-8824-582b8e0ed1e2",
   "metadata": {},
   "outputs": [
    {
     "name": "stdout",
     "output_type": "stream",
     "text": [
      "        0\n",
      "0   apple\n",
      "1  banana\n",
      "2  orange\n",
      "3   mango\n"
     ]
    }
   ],
   "source": [
    "### Creating a dataframe from a list\n",
    "lst = [\"apple\",\"banana\",\"orange\",\"mango\"]\n",
    "\n",
    "df=pd.DataFrame(lst)\n",
    "print(df)"
   ]
  },
  {
   "cell_type": "code",
   "execution_count": 9,
   "id": "68c77c62-6583-4ac9-8977-6c724f5415cc",
   "metadata": {},
   "outputs": [],
   "source": [
    "# Note\n",
    "#    Each item in list becomes row\n",
    "#    DataFrame consist of single unamed column"
   ]
  },
  {
   "cell_type": "code",
   "execution_count": 16,
   "id": "67b97099-9d7c-4321-88b0-0aefc6382e24",
   "metadata": {},
   "outputs": [
    {
     "name": "stdout",
     "output_type": "stream",
     "text": [
      "   A  B  C\n",
      "0  1  2  3\n",
      "1  4  5  6\n",
      "2  7  8  9\n"
     ]
    }
   ],
   "source": [
    "data = np.array([[1,2,3],[4,5,6],[7,8,9]])\n",
    "df=pd.DataFrame(data,columns=['A','B','C'])\n",
    "print(df)"
   ]
  },
  {
   "cell_type": "code",
   "execution_count": 17,
   "id": "c030eeaf-08c2-4392-8741-fcd37c890885",
   "metadata": {},
   "outputs": [
    {
     "name": "stdout",
     "output_type": "stream",
     "text": [
      "     name  degree  score\n",
      "0  aparna     MBA     90\n",
      "1  pankaj     BCA     40\n",
      "2  sudhir  M.Tech     80\n",
      "3   Geeku     MBA     98\n"
     ]
    }
   ],
   "source": [
    "## creating a dataframe from a list of Dictionaries\n",
    "## Here each key in the dictionary becomes a column and the lists are the column values\n",
    "dict = {'name':[\"aparna\", \"pankaj\", \"sudhir\", \"Geeku\"],\n",
    "        'degree': [\"MBA\", \"BCA\", \"M.Tech\", \"MBA\"],\n",
    "        'score':[90, 40, 80, 98]}\n",
    "df=pd.DataFrame(dict)\n",
    "print(df)"
   ]
  },
  {
   "cell_type": "code",
   "execution_count": 18,
   "id": "9b17bf96-2053-4c52-ab9e-3df26ac0f941",
   "metadata": {},
   "outputs": [],
   "source": [
    "# Accessing and Modifying the Index"
   ]
  },
  {
   "cell_type": "code",
   "execution_count": 21,
   "id": "a752f981-6870-45b2-aa68-e4eaefc32bdc",
   "metadata": {},
   "outputs": [
    {
     "name": "stdout",
     "output_type": "stream",
     "text": [
      "RangeIndex(start=0, stop=5, step=1)\n"
     ]
    }
   ],
   "source": [
    "data = {'Name': ['John', 'Alice', 'Bob', 'Eve', 'Charlie'],\n",
    "        'Age': [25, 30, 22, 35, 28],\n",
    "        'Gender': ['Male', 'Female', 'Male', 'Female', 'Male'],\n",
    "        'Salary': [50000, 55000, 40000, 70000, 48000]}\n",
    "df = pd.DataFrame(data)\n",
    "print(df.index)"
   ]
  },
  {
   "cell_type": "code",
   "execution_count": 22,
   "id": "bf73250a-6bac-447f-8d1c-34f8f0d2356e",
   "metadata": {},
   "outputs": [],
   "source": [
    "#Why indexing is useful?\n",
    "#uniquely identifies each row\n",
    "#you can access rows using index labels"
   ]
  },
  {
   "cell_type": "code",
   "execution_count": 28,
   "id": "40fb258d-18a3-454a-8c30-f0e578e06ff9",
   "metadata": {},
   "outputs": [
    {
     "name": "stdout",
     "output_type": "stream",
     "text": [
      "0    25\n",
      "1    30\n",
      "2    22\n",
      "3    35\n",
      "4    28\n",
      "Name: Age, dtype: int64\n"
     ]
    }
   ],
   "source": [
    "age_column = df['Age']\n",
    "print(age_column)"
   ]
  },
  {
   "cell_type": "code",
   "execution_count": 29,
   "id": "a5c140f6-0166-417b-bb32-cac51e74deb9",
   "metadata": {},
   "outputs": [
    {
     "name": "stdout",
     "output_type": "stream",
     "text": [
      "Name        Bob\n",
      "Age          22\n",
      "Gender     Male\n",
      "Salary    40000\n",
      "Name: 2, dtype: object\n"
     ]
    }
   ],
   "source": [
    "second_row = df.iloc[2]\n",
    "print(second_row)"
   ]
  },
  {
   "cell_type": "code",
   "execution_count": 33,
   "id": "d85e1f64-c8de-43fd-85a9-9f5313a68f49",
   "metadata": {},
   "outputs": [
    {
     "name": "stdout",
     "output_type": "stream",
     "text": [
      "    Name  Gender\n",
      "0   John    Male\n",
      "1  Alice  Female\n",
      "2    Bob    Male\n"
     ]
    }
   ],
   "source": [
    "multiple_column=df.loc[0:2,['Name','Gender']]\n",
    "print(multiple_column)"
   ]
  },
  {
   "cell_type": "code",
   "execution_count": 36,
   "id": "6ce2c5a6-c4ed-45ad-9d36-191d01836dd7",
   "metadata": {},
   "outputs": [
    {
     "name": "stdout",
     "output_type": "stream",
     "text": [
      "      Name  Age Gender  Salary\n",
      "0     John   25   Male   50000\n",
      "2      Bob   22   Male   40000\n",
      "4  Charlie   28   Male   48000\n"
     ]
    }
   ],
   "source": [
    "## Accessing row based on condition\n",
    "gender = df[df['Gender']=='Male']\n",
    "print(gender)"
   ]
  },
  {
   "cell_type": "code",
   "execution_count": null,
   "id": "5c4db3f8-bf95-4695-aeef-a5345c9b89a8",
   "metadata": {},
   "outputs": [],
   "source": [
    "##Accessing specific cell with at\n",
    "salary_at_index_1=df.atp"
   ]
  }
 ],
 "metadata": {
  "kernelspec": {
   "display_name": "Python 3 (ipykernel)",
   "language": "python",
   "name": "python3"
  },
  "language_info": {
   "codemirror_mode": {
    "name": "ipython",
    "version": 3
   },
   "file_extension": ".py",
   "mimetype": "text/x-python",
   "name": "python",
   "nbconvert_exporter": "python",
   "pygments_lexer": "ipython3",
   "version": "3.13.7"
  }
 },
 "nbformat": 4,
 "nbformat_minor": 5
}
