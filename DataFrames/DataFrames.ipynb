{
 "cells": [
  {
   "cell_type": "code",
   "execution_count": 1,
   "id": "2011e84f-dd2c-4e7f-b51a-ef6a3d04c6f6",
   "metadata": {},
   "outputs": [],
   "source": [
    "import pandas as pd"
   ]
  },
  {
   "cell_type": "code",
   "execution_count": 8,
   "id": "763ac937-9dff-4efe-a63c-bb32dbd7c93d",
   "metadata": {},
   "outputs": [
    {
     "name": "stdout",
     "output_type": "stream",
     "text": [
      "       car    category\n",
      "0  toyataa       Array\n",
      "1     alto       Stack\n",
      "2   wagonr       Queue\n",
      "3    audii  LinkedList\n"
     ]
    }
   ],
   "source": [
    "import pandas as pd\n",
    "\n",
    "my_dataset = {\n",
    "    \"car\": [\"toyataa\", \"alto\", \"wagonr\", \"audii\"],\n",
    "    \"category\": [\"Array\", \"Stack\", \"Queue\", \"LinkedList\"]\n",
    "}\n",
    "\n",
    "df = pd.DataFrame(my_dataset)\n",
    "print(df)"
   ]
  },
  {
   "cell_type": "code",
   "execution_count": null,
   "id": "12a62124-279f-4ed1-860f-bdb18279e126",
   "metadata": {},
   "outputs": [],
   "source": []
  }
 ],
 "metadata": {
  "kernelspec": {
   "display_name": "Python 3 (ipykernel)",
   "language": "python",
   "name": "python3"
  },
  "language_info": {
   "codemirror_mode": {
    "name": "ipython",
    "version": 3
   },
   "file_extension": ".py",
   "mimetype": "text/x-python",
   "name": "python",
   "nbconvert_exporter": "python",
   "pygments_lexer": "ipython3",
   "version": "3.13.7"
  }
 },
 "nbformat": 4,
 "nbformat_minor": 5
}
